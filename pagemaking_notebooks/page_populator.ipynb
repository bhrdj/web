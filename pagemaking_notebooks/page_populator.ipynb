{
 "cells": [
  {
   "cell_type": "markdown",
   "id": "ce5bffba-dcab-4a35-87b9-45b797a2374b",
   "metadata": {},
   "source": [
    "# page populator"
   ]
  },
  {
   "cell_type": "markdown",
   "id": "99845108-4aaa-4595-96d1-e45bc9f158b7",
   "metadata": {
    "tags": []
   },
   "source": [
    "##### setup"
   ]
  },
  {
   "cell_type": "markdown",
   "id": "b8c60a7d-39d9-46ab-833c-7a334728e39b",
   "metadata": {
    "tags": []
   },
   "source": [
    "###### installation and imports"
   ]
  },
  {
   "cell_type": "markdown",
   "id": "7ea7a709-7d06-4646-820e-141a70674ef6",
   "metadata": {},
   "source": [
    "```python\n",
    "pip install markdown==3.3.6\n",
    "```"
   ]
  },
  {
   "cell_type": "code",
   "execution_count": 94,
   "id": "dccaccd4-65a0-46d0-abed-a907e13bc06b",
   "metadata": {},
   "outputs": [],
   "source": [
    "import os, markdown as md, webbrowser\n",
    "import nbformat\n",
    "from nbconvert.preprocessors import ExecutePreprocessor"
   ]
  },
  {
   "cell_type": "markdown",
   "id": "6f54a6d0-e036-48a7-b89c-8ad2244ba799",
   "metadata": {
    "jp-MarkdownHeadingCollapsed": true,
    "tags": []
   },
   "source": [
    "###### paths and file lists"
   ]
  },
  {
   "cell_type": "code",
   "execution_count": 82,
   "id": "9cab6d9b-553f-4bc3-bc02-18a3049e069c",
   "metadata": {},
   "outputs": [
    {
     "data": {
      "text/plain": [
       "['example_readme.html']"
      ]
     },
     "execution_count": 82,
     "metadata": {},
     "output_type": "execute_result"
    }
   ],
   "source": [
    "content_dir = '../content/'\n",
    "docs_dir = '../docs/'\n",
    "\n",
    "dirwalk = os.walk(content_dir)\n",
    "content_files = [i for i in dirwalk][0][2]\n",
    "docs_files = [i.split(sep='.')[0]+'.html' for i in content_files]\n",
    "docs_files"
   ]
  },
  {
   "cell_type": "markdown",
   "id": "4bd039d1-1457-4586-9ff4-f01f7c4590fb",
   "metadata": {
    "jp-MarkdownHeadingCollapsed": true,
    "tags": []
   },
   "source": [
    "##### populate pages"
   ]
  },
  {
   "cell_type": "markdown",
   "id": "aaa979b8-ff97-41b0-9c00-46ca86ef64e4",
   "metadata": {},
   "source": [
    "###### make html from markdown"
   ]
  },
  {
   "cell_type": "code",
   "execution_count": 89,
   "id": "9e0e45b1-d366-4ac2-be7a-3ed712274754",
   "metadata": {},
   "outputs": [],
   "source": [
    "with open(content_dir+content_files[0],'r') as f:\n",
    "    raw_md = f.read()\n",
    "html_raw = md.markdown(raw_md,  extensions=['tables'])\n",
    "with open(docs_dir+docs_files[0],'w') as f:\n",
    "    f.write(html_raw)"
   ]
  },
  {
   "cell_type": "markdown",
   "id": "0b80f768-c979-4bdc-b776-d69e08f68efb",
   "metadata": {
    "jp-MarkdownHeadingCollapsed": true,
    "tags": []
   },
   "source": [
    "###### open html in browser tab to peek"
   ]
  },
  {
   "cell_type": "code",
   "execution_count": 90,
   "id": "afb50b30-738c-483c-bb89-91b81ecaacc4",
   "metadata": {},
   "outputs": [
    {
     "data": {
      "text/plain": [
       "['example_readme.html']"
      ]
     },
     "execution_count": 90,
     "metadata": {},
     "output_type": "execute_result"
    }
   ],
   "source": [
    "os.listdir(docs_dir)"
   ]
  },
  {
   "cell_type": "code",
   "execution_count": 91,
   "id": "4095fd2a-1267-409e-bef2-0597932af6d9",
   "metadata": {},
   "outputs": [
    {
     "data": {
      "text/plain": [
       "True"
      ]
     },
     "execution_count": 91,
     "metadata": {},
     "output_type": "execute_result"
    }
   ],
   "source": [
    "with open(docs_dir+docs_files[0], 'r') as f:\n",
    "    url = f.name\n",
    "webbrowser.open(url)"
   ]
  },
  {
   "cell_type": "markdown",
   "id": "126dc345-8cea-4139-b1d5-fbd47219cf1e",
   "metadata": {},
   "source": [
    "##### convert a notebook into html"
   ]
  },
  {
   "cell_type": "code",
   "execution_count": 93,
   "id": "ea9ab0eb-0896-4ca4-9cb7-8e4e4fbf27ff",
   "metadata": {},
   "outputs": [],
   "source": [
    "a_notebook_path = '../../predwikt/notebooks/1.03-sfb-assess-jawiki-and-time-dependency.ipynb'\n"
   ]
  },
  {
   "cell_type": "raw",
   "id": "a164cc14-0b8a-451f-8e4a-300330cf3c4e",
   "metadata": {},
   "source": [
    "os.remove('../content/1.03-sfb-assess-jawiki-and-time-dependency.html')"
   ]
  },
  {
   "cell_type": "code",
   "execution_count": 98,
   "id": "54eb022a-c0a5-4858-b671-40f852c189a3",
   "metadata": {},
   "outputs": [
    {
     "name": "stdout",
     "output_type": "stream",
     "text": [
      "[NbConvertApp] Converting notebook ../../predwikt/notebooks/1.03-sfb-assess-jawiki-and-time-dependency.ipynb to html\n",
      "[NbConvertApp] Writing 623394 bytes to ../content/1.03-sfb-assess-jawiki-and-time-dependency.html\n"
     ]
    }
   ],
   "source": [
    "!jupyter nbconvert --output-dir='../content/' --to html $a_notebook_path"
   ]
  },
  {
   "cell_type": "code",
   "execution_count": 96,
   "id": "f592ce1a-27f1-40d8-9e18-5a1c5b7a85da",
   "metadata": {},
   "outputs": [
    {
     "data": {
      "text/plain": [
       "['.ipynb_checkpoints', 'table_generator.ipynb', 'page_populator.ipynb', 'tempfile.html']"
      ]
     },
     "execution_count": 96,
     "metadata": {},
     "output_type": "execute_result"
    }
   ],
   "source": [
    "os.listdir()"
   ]
  },
  {
   "cell_type": "code",
   "execution_count": null,
   "id": "8a6590f5-b866-47c9-a223-92e3807b0bfd",
   "metadata": {},
   "outputs": [],
   "source": []
  },
  {
   "cell_type": "raw",
   "id": "099fa584-54f6-42cb-922e-352b0e5b9064",
   "metadata": {},
   "source": [
    "for i in files:\n",
    "    with open(content_dir+i,'r') as f_in:\n",
    "        with open(publish_dir+i,'w') as f_out:\n",
    "            f_out.write(f_in.read())"
   ]
  },
  {
   "cell_type": "code",
   "execution_count": null,
   "id": "a8521725-f6d6-4133-a5b7-26e7760a9ac8",
   "metadata": {},
   "outputs": [],
   "source": []
  }
 ],
 "metadata": {
  "kernelspec": {
   "display_name": "Python 3 (ipykernel)",
   "language": "python",
   "name": "python3"
  },
  "language_info": {
   "codemirror_mode": {
    "name": "ipython",
    "version": 3
   },
   "file_extension": ".py",
   "mimetype": "text/x-python",
   "name": "python",
   "nbconvert_exporter": "python",
   "pygments_lexer": "ipython3",
   "version": "3.9.7"
  }
 },
 "nbformat": 4,
 "nbformat_minor": 5
}
