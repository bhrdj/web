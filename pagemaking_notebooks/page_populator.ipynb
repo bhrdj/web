{
 "cells": [
  {
   "cell_type": "markdown",
   "id": "ce5bffba-dcab-4a35-87b9-45b797a2374b",
   "metadata": {},
   "source": [
    "# page populator"
   ]
  },
  {
   "cell_type": "code",
   "execution_count": 1,
   "id": "dccaccd4-65a0-46d0-abed-a907e13bc06b",
   "metadata": {},
   "outputs": [],
   "source": [
    "import os"
   ]
  },
  {
   "cell_type": "code",
   "execution_count": 3,
   "id": "9cab6d9b-553f-4bc3-bc02-18a3049e069c",
   "metadata": {},
   "outputs": [],
   "source": [
    "content_dir = '../content/'\n",
    "publish_dir = '../docs/'"
   ]
  },
  {
   "cell_type": "code",
   "execution_count": 15,
   "id": "44d35830-be8a-4a9d-b4f0-bf3bd9f64de2",
   "metadata": {},
   "outputs": [
    {
     "data": {
      "text/plain": [
       "['example_blog.md']"
      ]
     },
     "execution_count": 15,
     "metadata": {},
     "output_type": "execute_result"
    }
   ],
   "source": [
    "dirwalk = os.walk(content_dir)\n",
    "files = [i for i in dirwalk][0][2]\n",
    "files"
   ]
  },
  {
   "cell_type": "code",
   "execution_count": 17,
   "id": "67c52d5e-0f96-4c39-b463-84f7e4614cff",
   "metadata": {},
   "outputs": [],
   "source": [
    "for i in files:\n",
    "    with open(content_dir+i,'r') as f_in:\n",
    "        with open(publish_dir+i,'w') as f_out:\n",
    "            f_out.write(f_in.read())"
   ]
  }
 ],
 "metadata": {
  "kernelspec": {
   "display_name": "Python 3 (ipykernel)",
   "language": "python",
   "name": "python3"
  },
  "language_info": {
   "codemirror_mode": {
    "name": "ipython",
    "version": 3
   },
   "file_extension": ".py",
   "mimetype": "text/x-python",
   "name": "python",
   "nbconvert_exporter": "python",
   "pygments_lexer": "ipython3",
   "version": "3.9.7"
  }
 },
 "nbformat": 4,
 "nbformat_minor": 5
}
