{
 "cells": [
  {
   "cell_type": "markdown",
   "id": "608c1da5-740b-427a-b3ea-dd303f547c91",
   "metadata": {},
   "source": [
    "# Table generator"
   ]
  },
  {
   "cell_type": "code",
   "execution_count": 6,
   "id": "d3aa02d8-7a65-444a-b2a6-693102a78d40",
   "metadata": {},
   "outputs": [],
   "source": [
    "import pandas as pd\n",
    "import pyperclip"
   ]
  },
  {
   "cell_type": "code",
   "execution_count": 2,
   "id": "f9532b06-21eb-4748-a297-7ad7f99d20ef",
   "metadata": {},
   "outputs": [],
   "source": [
    "df = pd.DataFrame({'name':['awesome_project', 'cool_project', 'nifty_project'],\n",
    "                  'languages':['Python, SQL', 'Python', 'R']})"
   ]
  },
  {
   "cell_type": "code",
   "execution_count": 8,
   "id": "48b9bb0d-b76e-4827-be87-dea695a0946e",
   "metadata": {},
   "outputs": [],
   "source": [
    "md = df.to_markdown(index=False)"
   ]
  },
  {
   "cell_type": "code",
   "execution_count": 10,
   "id": "be129a5b-7e23-4c67-94f9-b960d2c5f665",
   "metadata": {},
   "outputs": [
    {
     "name": "stdout",
     "output_type": "stream",
     "text": [
      "| name            | languages   |\n",
      "|:----------------|:------------|\n",
      "| awesome_project | Python, SQL |\n",
      "| cool_project    | Python      |\n",
      "| nifty_project   | R           |\n"
     ]
    }
   ],
   "source": [
    "print(md)"
   ]
  },
  {
   "cell_type": "code",
   "execution_count": 7,
   "id": "bb7c5d9c-60fc-4378-bc5f-9865a7310639",
   "metadata": {},
   "outputs": [],
   "source": [
    "pyperclip.copy(md)"
   ]
  }
 ],
 "metadata": {
  "kernelspec": {
   "display_name": "Python 3 (ipykernel)",
   "language": "python",
   "name": "python3"
  },
  "language_info": {
   "codemirror_mode": {
    "name": "ipython",
    "version": 3
   },
   "file_extension": ".py",
   "mimetype": "text/x-python",
   "name": "python",
   "nbconvert_exporter": "python",
   "pygments_lexer": "ipython3",
   "version": "3.9.7"
  }
 },
 "nbformat": 4,
 "nbformat_minor": 5
}
